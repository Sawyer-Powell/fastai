{
 "cells": [
  {
   "cell_type": "markdown",
   "id": "db7977d5-aea9-47ac-a8e2-7782776ef714",
   "metadata": {},
   "source": [
    "# Messing with decision trees\n",
    "\n",
    "Reference: https://developers.google.com/machine-learning/decision-forests/growing\n",
    "\n",
    "Kaggle data source: https://www.kaggle.com/competitions/titanic/data"
   ]
  },
  {
   "cell_type": "code",
   "execution_count": 1,
   "id": "053547ac-0d42-474b-ad02-637834976ec1",
   "metadata": {},
   "outputs": [],
   "source": [
    "import pandas as pd\n",
    "import numpy as np\n",
    "import matplotlib.pyplot as plt\n",
    "import scipy.optimize as opt\n",
    "%matplotlib inline"
   ]
  },
  {
   "cell_type": "code",
   "execution_count": 2,
   "id": "a3e879b0-f1af-4e70-a982-eb50ac655536",
   "metadata": {},
   "outputs": [],
   "source": [
    "DATA = \"data/titanic/\""
   ]
  },
  {
   "cell_type": "code",
   "execution_count": 3,
   "id": "826a8513-6baa-4d22-929a-ff37db1511cb",
   "metadata": {},
   "outputs": [
    {
     "data": {
      "text/html": [
       "<div>\n",
       "<style scoped>\n",
       "    .dataframe tbody tr th:only-of-type {\n",
       "        vertical-align: middle;\n",
       "    }\n",
       "\n",
       "    .dataframe tbody tr th {\n",
       "        vertical-align: top;\n",
       "    }\n",
       "\n",
       "    .dataframe thead th {\n",
       "        text-align: right;\n",
       "    }\n",
       "</style>\n",
       "<table border=\"1\" class=\"dataframe\">\n",
       "  <thead>\n",
       "    <tr style=\"text-align: right;\">\n",
       "      <th></th>\n",
       "      <th>PassengerId</th>\n",
       "      <th>Survived</th>\n",
       "      <th>Pclass</th>\n",
       "      <th>Name</th>\n",
       "      <th>Sex</th>\n",
       "      <th>Age</th>\n",
       "      <th>SibSp</th>\n",
       "      <th>Parch</th>\n",
       "      <th>Ticket</th>\n",
       "      <th>Fare</th>\n",
       "      <th>Cabin</th>\n",
       "      <th>Embarked</th>\n",
       "    </tr>\n",
       "  </thead>\n",
       "  <tbody>\n",
       "    <tr>\n",
       "      <th>0</th>\n",
       "      <td>1</td>\n",
       "      <td>0</td>\n",
       "      <td>3</td>\n",
       "      <td>Braund, Mr. Owen Harris</td>\n",
       "      <td>male</td>\n",
       "      <td>22.0</td>\n",
       "      <td>1</td>\n",
       "      <td>0</td>\n",
       "      <td>A/5 21171</td>\n",
       "      <td>7.2500</td>\n",
       "      <td>NaN</td>\n",
       "      <td>S</td>\n",
       "    </tr>\n",
       "    <tr>\n",
       "      <th>1</th>\n",
       "      <td>2</td>\n",
       "      <td>1</td>\n",
       "      <td>1</td>\n",
       "      <td>Cumings, Mrs. John Bradley (Florence Briggs Th...</td>\n",
       "      <td>female</td>\n",
       "      <td>38.0</td>\n",
       "      <td>1</td>\n",
       "      <td>0</td>\n",
       "      <td>PC 17599</td>\n",
       "      <td>71.2833</td>\n",
       "      <td>C85</td>\n",
       "      <td>C</td>\n",
       "    </tr>\n",
       "    <tr>\n",
       "      <th>2</th>\n",
       "      <td>3</td>\n",
       "      <td>1</td>\n",
       "      <td>3</td>\n",
       "      <td>Heikkinen, Miss. Laina</td>\n",
       "      <td>female</td>\n",
       "      <td>26.0</td>\n",
       "      <td>0</td>\n",
       "      <td>0</td>\n",
       "      <td>STON/O2. 3101282</td>\n",
       "      <td>7.9250</td>\n",
       "      <td>NaN</td>\n",
       "      <td>S</td>\n",
       "    </tr>\n",
       "    <tr>\n",
       "      <th>3</th>\n",
       "      <td>4</td>\n",
       "      <td>1</td>\n",
       "      <td>1</td>\n",
       "      <td>Futrelle, Mrs. Jacques Heath (Lily May Peel)</td>\n",
       "      <td>female</td>\n",
       "      <td>35.0</td>\n",
       "      <td>1</td>\n",
       "      <td>0</td>\n",
       "      <td>113803</td>\n",
       "      <td>53.1000</td>\n",
       "      <td>C123</td>\n",
       "      <td>S</td>\n",
       "    </tr>\n",
       "    <tr>\n",
       "      <th>4</th>\n",
       "      <td>5</td>\n",
       "      <td>0</td>\n",
       "      <td>3</td>\n",
       "      <td>Allen, Mr. William Henry</td>\n",
       "      <td>male</td>\n",
       "      <td>35.0</td>\n",
       "      <td>0</td>\n",
       "      <td>0</td>\n",
       "      <td>373450</td>\n",
       "      <td>8.0500</td>\n",
       "      <td>NaN</td>\n",
       "      <td>S</td>\n",
       "    </tr>\n",
       "  </tbody>\n",
       "</table>\n",
       "</div>"
      ],
      "text/plain": [
       "   PassengerId  Survived  Pclass  \\\n",
       "0            1         0       3   \n",
       "1            2         1       1   \n",
       "2            3         1       3   \n",
       "3            4         1       1   \n",
       "4            5         0       3   \n",
       "\n",
       "                                                Name     Sex   Age  SibSp  \\\n",
       "0                            Braund, Mr. Owen Harris    male  22.0      1   \n",
       "1  Cumings, Mrs. John Bradley (Florence Briggs Th...  female  38.0      1   \n",
       "2                             Heikkinen, Miss. Laina  female  26.0      0   \n",
       "3       Futrelle, Mrs. Jacques Heath (Lily May Peel)  female  35.0      1   \n",
       "4                           Allen, Mr. William Henry    male  35.0      0   \n",
       "\n",
       "   Parch            Ticket     Fare Cabin Embarked  \n",
       "0      0         A/5 21171   7.2500   NaN        S  \n",
       "1      0          PC 17599  71.2833   C85        C  \n",
       "2      0  STON/O2. 3101282   7.9250   NaN        S  \n",
       "3      0            113803  53.1000  C123        S  \n",
       "4      0            373450   8.0500   NaN        S  "
      ]
     },
     "execution_count": 3,
     "metadata": {},
     "output_type": "execute_result"
    }
   ],
   "source": [
    "train_raw = pd.read_csv(f'{DATA}train.csv')\n",
    "train_raw.head()"
   ]
  },
  {
   "cell_type": "code",
   "execution_count": 4,
   "id": "f618efe5-c358-441e-88a1-69e9ae0d5be9",
   "metadata": {},
   "outputs": [
    {
     "data": {
      "text/plain": [
       "0.18890814558058924"
      ]
     },
     "execution_count": 4,
     "metadata": {},
     "output_type": "execute_result"
    }
   ],
   "source": [
    "males = train_raw.Sex == \"male\"\n",
    "males = train_raw[males]\n",
    "females = train_raw.Sex != \"male\"\n",
    "females = train_raw[females]\n",
    "np.average(males.Survived)"
   ]
  },
  {
   "cell_type": "code",
   "execution_count": 5,
   "id": "43d3f8e2-f57b-4984-a6bd-51cad13f3fe4",
   "metadata": {},
   "outputs": [
    {
     "data": {
      "text/plain": [
       "array([1, 2, 3])"
      ]
     },
     "execution_count": 5,
     "metadata": {},
     "output_type": "execute_result"
    }
   ],
   "source": [
    "np.unique(train_raw.Pclass)"
   ]
  },
  {
   "cell_type": "code",
   "execution_count": 6,
   "id": "ed4e7475-9a6c-42d3-b1f5-09cfbf485393",
   "metadata": {},
   "outputs": [
    {
     "data": {
      "text/plain": [
       "0.7420382165605095"
      ]
     },
     "execution_count": 6,
     "metadata": {},
     "output_type": "execute_result"
    }
   ],
   "source": [
    "np.average(females.Survived)"
   ]
  },
  {
   "cell_type": "markdown",
   "id": "8e5b2a53-b3b6-411c-9912-b3fa361c1ad6",
   "metadata": {},
   "source": [
    "Alright, let's make a decision tree. Let's take the sex as the first feature we will look into. Breaking up the data in this scenario\n",
    "is pretty trivial since sex can only take two values in this dataset. Let's look into the basic principles of the approach behind decision trees.\n",
    "\n",
    "The idea behind decision trees is that we want to create a hierarchy of features within a dataset, that allow us to describe, and better predict,\n",
    "an outcome given some set of features about a datapoint. Let's take the example of the Titanic dataset. I want to, given the data provided above, predict\n",
    "whether a person will survive or die. Using just information about sex, by using a naive approach, I'm going to make a simple model:\n",
    "\n",
    "```\n",
    "if male => will die\n",
    "else => will live\n",
    "```\n",
    "\n",
    "In this scenario, i'm just rounding the probability that a lady would die vs. a male. This model is crude, but, in the case of males, will be correct about 3/4 of the time. To make it more sophisticated, I can start nesting conditions. This nesting allows us to better capture the complexity of the data within our model. Nesting, in this case, could mean something like \"is male and age is greater than 30\". Conditions for now are always true or false, with the nesting resulting in a binary tree. The leafs of our tree are the probability of our dependent variable being the positive case given the precedeing conditions (i.e. probability that they will live).\n",
    "\n",
    "An important part of decision trees is determining the order and structure of the hierarchy, since all we start out with are a list of features that we're interested in. A good measurement fo how good a feature is for predicting the dependent variable is by measuring the information gain that feature provides. How do we measure information gain? What does that even mean? Let's just start with the intuition that an increase in information results in an increase in heterogeneity. Information allows us to separate data. More information is equivalent to saying less entropy. The big idea is that entropy makes data hard to distinguish, information allows us to distinguish it. Like putting on a new pair of glasses.\n",
    "\n",
    "### Measuring entropy\n",
    "\n",
    "$$\\begin{eqnarray}\n",
    "R(X) & = & \\frac{\\lvert \\{ x | x \\in X \\ \\textrm{and} \\ x = \\mathrm{pos}  \\} \\rvert}{\\lvert X \\rvert} \\\\[12pt]\n",
    "H(X) & = & - p \\log p - (1 - p) \\log (1-p) \\ \\textrm{with} \\ p = R(X)\\\\[12pt]\n",
    "\\end{eqnarray}$$\n",
    "\n",
    "$R(X)$ is the proportion of the data in X that takes on the positive condition in the dependent variable.\n",
    "$H(X)$ is the Shannon Entropy."
   ]
  },
  {
   "cell_type": "code",
   "execution_count": 7,
   "id": "fe1952c4-9657-4186-9606-b39b66f2d459",
   "metadata": {},
   "outputs": [],
   "source": [
    "# Let's define the positive condition as being alive :)\n",
    "# Let's find the proportion of males that ended up alive, and let's do the same for females\n",
    "\n",
    "r_male = np.average(males.Survived)\n",
    "r_female = np.average(females.Survived)\n",
    "\n",
    "# Let's then calculate the entropy from these proportions\n",
    "\n",
    "def entropy(p):\n",
    "    if p == 1 or p == 0 or np.isnan(p):\n",
    "        return 0\n",
    "    return -1 * p * np.log(p) - (1 - p) * np.log(1 - p)\n",
    "\n",
    "h_male = entropy(r_male)\n",
    "h_female = entropy(r_female)"
   ]
  },
  {
   "cell_type": "code",
   "execution_count": 8,
   "id": "1c9a5865-dfa1-48e1-9c1b-bba4155951f6",
   "metadata": {},
   "outputs": [],
   "source": [
    "# Let's also calculate the baseline entropy of the data\n",
    "\n",
    "r_base = np.average(train_raw.Survived)\n",
    "h_base = entropy(r_base)"
   ]
  },
  {
   "cell_type": "code",
   "execution_count": 9,
   "id": "24b21146-85d0-406a-9524-d044a9216440",
   "metadata": {},
   "outputs": [
    {
     "data": {
      "text/plain": [
       "(0.6659119735267652, 0.5709141922481396, 0.4846358858279689)"
      ]
     },
     "execution_count": 9,
     "metadata": {},
     "output_type": "execute_result"
    }
   ],
   "source": [
    "h_base, h_female, h_male"
   ]
  },
  {
   "cell_type": "markdown",
   "id": "3be9cf40-9712-4344-a3b8-d5bdd3caae39",
   "metadata": {},
   "source": [
    "## Measuring information gain\n",
    "\n",
    "Just take the base entropy, and subtract the weighted average of the entropies from the two splits.\n",
    "\n",
    "$$\\begin{eqnarray}\n",
    "IG(D,T,F) & = & H(D) - \\frac {\\lvert T\\rvert} {\\lvert D \\rvert } H(T) - \\frac {\\lvert F \\rvert} {\\lvert D \\rvert } H(F)\n",
    "\\end{eqnarray}$$\n",
    "\n",
    "IG -> Information Gained\n",
    "\n",
    "Where $D$ represents the base set of the dependent variable, not filtered based on a feature's split (e.g. male vs. female for the sex feature)"
   ]
  },
  {
   "cell_type": "code",
   "execution_count": 10,
   "id": "f4a24a7e-3437-462c-be4c-f4a960e09b0a",
   "metadata": {},
   "outputs": [
    {
     "data": {
      "text/plain": [
       "0.15087048925218174"
      ]
     },
     "execution_count": 10,
     "metadata": {},
     "output_type": "execute_result"
    }
   ],
   "source": [
    "ig = h_base - (males.size/train_raw.size) * h_male - (females.size/train_raw.size) * h_female\n",
    "ig"
   ]
  },
  {
   "cell_type": "markdown",
   "id": "1bd73572-af04-4ede-973a-0f925530655d",
   "metadata": {},
   "source": [
    "### Dang!\n",
    "\n",
    "Now we have a way to evaluate how good a split of the data is based on a feature! **Big IG means more good.**"
   ]
  },
  {
   "cell_type": "markdown",
   "id": "68db2e60-46eb-4c13-96fa-a572bf6dc1d0",
   "metadata": {},
   "source": [
    "## What about finding the information gain from a continuous feature?\n",
    "\n",
    "Let's analyze this using the fare column in the titanic data. We can split the continuous values by specifying a threshold value $t$. Splitting the data into two chunks:\n",
    "\n",
    "$$\\begin{eqnarray}\n",
    "A = x \\leq t \\\\[12pt]\n",
    "B = x \\gt t\n",
    "\\end{eqnarray}$$\n",
    "\n",
    "From this, we can apply the same methods as before for calculating the information gain."
   ]
  },
  {
   "cell_type": "code",
   "execution_count": 11,
   "id": "f0cef5c8-bf46-496a-90ee-c866845d2a7d",
   "metadata": {},
   "outputs": [
    {
     "data": {
      "text/plain": [
       "32.204207968574636"
      ]
     },
     "execution_count": 11,
     "metadata": {},
     "output_type": "execute_result"
    }
   ],
   "source": [
    "np.average(train_raw.Fare)"
   ]
  },
  {
   "cell_type": "code",
   "execution_count": 12,
   "id": "f7f04647-2bf9-42e2-9346-32423133a1fd",
   "metadata": {},
   "outputs": [
    {
     "data": {
      "text/plain": [
       "0.029209702428192402"
      ]
     },
     "execution_count": 12,
     "metadata": {},
     "output_type": "execute_result"
    }
   ],
   "source": [
    "# Let's try out the average for our starting value of t\n",
    "t = 32\n",
    "\n",
    "fare_bt = train_raw[train_raw.Fare <= t]\n",
    "fare_at = train_raw[train_raw.Fare > t]\n",
    "\n",
    "r_fare_bt = np.average(fare_bt.Survived) # below t ;)\n",
    "r_fare_at = np.average(fare_at.Survived) # above t ;)\n",
    "\n",
    "h_fare_bt = entropy(r_fare_bt)\n",
    "h_fare_at = entropy(r_fare_at)\n",
    "\n",
    "ig_fare = h_base - (fare_bt.size/train_raw.size) * h_fare_bt - (fare_at.size/train_raw.size) * h_fare_at\n",
    "\n",
    "ig_fare"
   ]
  },
  {
   "cell_type": "markdown",
   "id": "5155ec37-dcd9-4a1c-b2bf-c54f26aa8782",
   "metadata": {},
   "source": [
    "### Optimizing the choice of threshold"
   ]
  },
  {
   "cell_type": "code",
   "execution_count": 13,
   "id": "75389160-44c2-4e53-a102-656d89c63cff",
   "metadata": {},
   "outputs": [],
   "source": [
    "# let's first refactor our information gained calculations\n",
    "\n",
    "def get_ig(t_arr, D, x, y):\n",
    "    t = t_arr[0]\n",
    "    x_bt = D[D[x] <= t]\n",
    "    x_at = D[D[x] > t]\n",
    "    r_x_bt = np.average(x_bt[y]) if x_bt.size > 0 else 0\n",
    "    r_x_at = np.average(x_at[y]) if x_at.size > 0 else 0\n",
    "    h_x_bt = entropy(r_x_bt)\n",
    "    h_x_at = entropy(r_x_at)\n",
    "    h_base = entropy(np.average(D[y]))\n",
    "    return h_base - (x_bt.size/D.size) * h_x_bt - (x_at.size/D.size) * h_x_at"
   ]
  },
  {
   "cell_type": "code",
   "execution_count": 14,
   "id": "5d48b0ee-a25e-4166-9293-39f184c6807a",
   "metadata": {},
   "outputs": [
    {
     "data": {
      "text/plain": [
       "0.0032331553602756857"
      ]
     },
     "execution_count": 14,
     "metadata": {},
     "output_type": "execute_result"
    }
   ],
   "source": [
    "get_ig([270], train_raw, \"Fare\", \"Survived\")"
   ]
  },
  {
   "cell_type": "code",
   "execution_count": 15,
   "id": "60494aba-2705-43a3-a6d7-79c4ba32ad82",
   "metadata": {},
   "outputs": [
    {
     "data": {
      "text/plain": [
       "[<matplotlib.lines.Line2D at 0x7fd3630bbfd0>]"
      ]
     },
     "execution_count": 15,
     "metadata": {},
     "output_type": "execute_result"
    },
    {
     "data": {
      "image/png": "[encoded data removed]",
      "text/plain": [
       "<Figure size 640x480 with 1 Axes>"
      ]
     },
     "metadata": {},
     "output_type": "display_data"
    }
   ],
   "source": [
    "# let's graph the information gained for our choice of thresholds\n",
    "min_fare = np.min(train_raw.Fare)\n",
    "max_fare = np.max(train_raw.Fare)\n",
    "\n",
    "possible_ts = np.linspace(min_fare, 200, 1000)\n",
    "igs = [get_ig([t], train_raw, \"Fare\", \"Survived\") for t in possible_ts]\n",
    "\n",
    "plt.plot(possible_ts, igs)"
   ]
  },
  {
   "cell_type": "code",
   "execution_count": 16,
   "id": "330a0890-3a67-48c9-b727-84d9fb6e026d",
   "metadata": {},
   "outputs": [
    {
     "data": {
      "text/plain": [
       "0.046306237756263524"
      ]
     },
     "execution_count": 16,
     "metadata": {},
     "output_type": "execute_result"
    }
   ],
   "source": [
    "# Finding the exact maximum is not that important, since it's only going to be used to compare to other features\n",
    "# this function is also incredibly jagged, meaning we're not going to benefit from any analytical speedups\n",
    "# (we're very likely going to get trapped in some local minima/maxima)\n",
    "\n",
    "# Let's just take a bunch of samples and get the max\n",
    "\n",
    "possible_ts = np.linspace(min_fare, max_fare, 50)\n",
    "igs = [get_ig([t], train_raw, \"Fare\", \"Survived\") for t in possible_ts]\n",
    "\n",
    "np.max(igs)"
   ]
  },
  {
   "cell_type": "code",
   "execution_count": 17,
   "id": "63d14546-2033-44b2-a5e4-034419577e86",
   "metadata": {},
   "outputs": [
    {
     "data": {
      "text/plain": [
       "0.13476791463934662"
      ]
     },
     "execution_count": 17,
     "metadata": {},
     "output_type": "execute_result"
    }
   ],
   "source": [
    "# Okay, let's try out age\n",
    "\n",
    "possible_ts = np.linspace(np.min(train_raw.Age), np.max(train_raw.Age), 50)\n",
    "igs = [get_ig([t], train_raw, \"Age\", \"Survived\") for t in possible_ts]\n",
    "np.max(igs)"
   ]
  },
  {
   "cell_type": "code",
   "execution_count": 31,
   "id": "d6054a30-90c5-4ca6-ba5d-8ee8d650b3de",
   "metadata": {},
   "outputs": [],
   "source": [
    "# Interesting... age can generate a lot more information about survival than the ticket price\n",
    "# Almost the same as gender in fact! Seems like the passengers on board the titanic were prioritizing\n",
    "# aspects around gender and age in choosing who they should try to save.\n",
    "\n",
    "# Let's look at the class the passengers were traveling in. Also, let's abstract the procedure we've been doing to get\n",
    "# the max information gained\n",
    "\n",
    "def max_ig_cont(D, x, y):\n",
    "    distinct = np.unique(D[x]).size\n",
    "    samples = 60\n",
    "    possible_ts = np.linspace(np.min(D[x]), np.max(D[x]), samples)\n",
    "    igs = [get_ig([t], D, x, y) for t in possible_ts]\n",
    "    max_i = np.argmax(igs)\n",
    "    return (possible_ts[max_i], igs[max_i])"
   ]
  },
  {
   "cell_type": "code",
   "execution_count": 33,
   "id": "fed13bef-a94c-4271-8a3b-89dd76b522fc",
   "metadata": {},
   "outputs": [
    {
     "data": {
      "text/plain": [
       "(5.815254237288135, 0.13423724056807929)"
      ]
     },
     "execution_count": 33,
     "metadata": {},
     "output_type": "execute_result"
    }
   ],
   "source": [
    "# Testing it out\n",
    "max_ig_cont(train_raw, \"Age\", \"Survived\")"
   ]
  },
  {
   "cell_type": "code",
   "execution_count": 35,
   "id": "6097a06d-8245-4bb5-8a91-1b5e84f4ece7",
   "metadata": {},
   "outputs": [
    {
     "data": {
      "text/plain": [
       "(2.016949152542373, 0.05253613916173083)"
      ]
     },
     "execution_count": 35,
     "metadata": {},
     "output_type": "execute_result"
    }
   ],
   "source": [
    "max_ig_cont(train_raw, \"Pclass\", \"Survived\")"
   ]
  },
  {
   "cell_type": "code",
   "execution_count": 36,
   "id": "9e3dc6c6-a80a-4a98-876e-a150958cc680",
   "metadata": {},
   "outputs": [
    {
     "data": {
      "text/plain": [
       "(3.1186440677966103, 0.007151771240222402)"
      ]
     },
     "execution_count": 36,
     "metadata": {},
     "output_type": "execute_result"
    }
   ],
   "source": [
    "max_ig_cont(train_raw, \"SibSp\", \"Survived\")"
   ]
  },
  {
   "cell_type": "markdown",
   "id": "e6d5a414-114e-4f15-a675-3f9964d812d4",
   "metadata": {},
   "source": [
    "## Building the Decision Tree\n",
    "\n",
    "The building of the decision tree follows this algorithm\n",
    "\n",
    "```python\n",
    "def train_decision_tree(training_examples):\n",
    "  root = create_root() # Create a decision tree with a single empty root.\n",
    "  grow_tree(root, training_examples) # Grow the root node.\n",
    "  return root\n",
    "\n",
    "def grow_tree(node, examples):\n",
    "  condition = find_best_condition(examples) # Find the best condition.\n",
    "\n",
    "  if condition is None:\n",
    "    # No satisfying conditions were found, therefore the grow of the branch stops.\n",
    "    set_leaf_prediction(node, examples)\n",
    "    return\n",
    "\n",
    "  # Create two childrens for the node.\n",
    "  positive_child, negative_child = split_node(node, condition)\n",
    "\n",
    "  # List the training examples used by each children.\n",
    "  negative_examples = [example for example in examples if not condition(example)]\n",
    "  positive_examples = [example for example in examples if condition(example)]\n",
    "\n",
    "  # Continue the growth of the children.\n",
    "  grow_tree(negative_child, negative_examples)\n",
    "  grow_tree(positive_child, positive_examples)\n",
    "```"
   ]
  },
  {
   "cell_type": "code",
   "execution_count": null,
   "id": "8b41b334-7f93-4b1b-96eb-21e189c534c8",
   "metadata": {},
   "outputs": [],
   "source": [
    "def train_decision_tree(D):\n",
    "    "
   ]
  }
 ],
 "metadata": {
  "kernelspec": {
   "display_name": "Python 3 (ipykernel)",
   "language": "python",
   "name": "python3"
  },
  "language_info": {
   "codemirror_mode": {
    "name": "ipython",
    "version": 3
   },
   "file_extension": ".py",
   "mimetype": "text/x-python",
   "name": "python",
   "nbconvert_exporter": "python",
   "pygments_lexer": "ipython3",
   "version": "3.11.3"
  }
 },
 "nbformat": 4,
 "nbformat_minor": 5
}
